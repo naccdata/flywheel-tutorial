{
 "cells": [
  {
   "cell_type": "markdown",
   "metadata": {},
   "source": [
    "# First Notebook"
   ]
  },
  {
   "cell_type": "markdown",
   "metadata": {},
   "source": [
    "## Setup\n",
    "\n",
    "Start by installing the flywheel SDK, which is used to connect to Flywheel."
   ]
  },
  {
   "cell_type": "code",
   "execution_count": 2,
   "metadata": {},
   "outputs": [
    {
     "name": "stdout",
     "output_type": "stream",
     "text": [
      "Defaulting to user installation because normal site-packages is not writeable\n",
      "Requirement already satisfied: flywheel-sdk in /home/vscode/.local/lib/python3.12/site-packages (17.7.0)\n",
      "Requirement already satisfied: urllib3>=1.15 in /home/vscode/.local/lib/python3.12/site-packages (from flywheel-sdk) (2.1.0)\n",
      "Requirement already satisfied: six>=1.10 in /home/vscode/.local/lib/python3.12/site-packages (from flywheel-sdk) (1.16.0)\n",
      "Requirement already satisfied: certifi in /home/vscode/.local/lib/python3.12/site-packages (from flywheel-sdk) (2023.11.17)\n",
      "Requirement already satisfied: python-dateutil in /home/vscode/.local/lib/python3.12/site-packages (from flywheel-sdk) (2.8.2)\n",
      "Requirement already satisfied: packaging in /home/vscode/.local/lib/python3.12/site-packages (from flywheel-sdk) (23.2)\n",
      "Requirement already satisfied: requests>=2.18.4 in /home/vscode/.local/lib/python3.12/site-packages (from flywheel-sdk) (2.31.0)\n",
      "Requirement already satisfied: requests-toolbelt in /home/vscode/.local/lib/python3.12/site-packages (from flywheel-sdk) (1.0.0)\n",
      "Requirement already satisfied: charset-normalizer<4,>=2 in /home/vscode/.local/lib/python3.12/site-packages (from requests>=2.18.4->flywheel-sdk) (3.3.2)\n",
      "Requirement already satisfied: idna<4,>=2.5 in /home/vscode/.local/lib/python3.12/site-packages (from requests>=2.18.4->flywheel-sdk) (3.6)\n",
      "\n",
      "\u001b[1m[\u001b[0m\u001b[34;49mnotice\u001b[0m\u001b[1;39;49m]\u001b[0m\u001b[39;49m A new release of pip is available: \u001b[0m\u001b[31;49m23.2.1\u001b[0m\u001b[39;49m -> \u001b[0m\u001b[32;49m23.3.2\u001b[0m\n",
      "\u001b[1m[\u001b[0m\u001b[34;49mnotice\u001b[0m\u001b[1;39;49m]\u001b[0m\u001b[39;49m To update, run: \u001b[0m\u001b[32;49mpip install --upgrade pip\u001b[0m\n",
      "Note: you may need to restart the kernel to use updated packages.\n"
     ]
    }
   ],
   "source": [
    "%pip install flywheel-sdk"
   ]
  },
  {
   "cell_type": "markdown",
   "metadata": {},
   "source": [
    "Then import the Python packages needed to use Flywheel."
   ]
  },
  {
   "cell_type": "code",
   "execution_count": 5,
   "metadata": {},
   "outputs": [],
   "source": [
    "from getpass import getpass\n",
    "import logging\n",
    "import os\n",
    "\n",
    "import flywheel\n"
   ]
  },
  {
   "cell_type": "markdown",
   "metadata": {},
   "source": [
    "And, setup logging"
   ]
  },
  {
   "cell_type": "code",
   "execution_count": 6,
   "metadata": {},
   "outputs": [],
   "source": [
    "logging.basicConfig(level=logging.INFO, format='%(asctime)s %(levelname)s %(message)s')\n",
    "log = logging.getLogger('root')"
   ]
  },
  {
   "cell_type": "markdown",
   "metadata": {},
   "source": [
    "## Connect to Flywheel\n",
    "\n",
    "Then finally connect to Flywheel by inputting your API Key, and creating a Flywheel SDK Client."
   ]
  },
  {
   "cell_type": "code",
   "execution_count": 7,
   "metadata": {},
   "outputs": [
    {
     "name": "stderr",
     "output_type": "stream",
     "text": [
      "2024-01-19 22:13:25,456 INFO You are now logged in as bjkeller@vt.edu to https://flywheel.naccdata.org/api\n"
     ]
    }
   ],
   "source": [
    "API_KEY = getpass('Enter API_KEY here: ')\n",
    "fw = flywheel.Client(API_KEY if 'API_KEY' in locals() else os.environ.get('FW_KEY'))\n",
    "\n",
    "log.info('You are now logged in as %s to %s', fw.get_current_user()['email'], fw.get_config()['site']['api_url'])"
   ]
  },
  {
   "cell_type": "markdown",
   "metadata": {},
   "source": [
    "## Pulling information\n",
    "\n",
    "Start by pulling information we should have access to.\n",
    "\n",
    "First, list the groups "
   ]
  },
  {
   "cell_type": "code",
   "execution_count": 8,
   "metadata": {},
   "outputs": [
    {
     "name": "stdout",
     "output_type": "stream",
     "text": [
      "Group Name/Label: Mount Sinai; Group ID: mount-sinai \n",
      "Group Name/Label: NACC; Group ID: nacc \n",
      "Group Name/Label: Sample Center; Group ID: sample \n"
     ]
    }
   ],
   "source": [
    "for group in fw.groups():\n",
    "    print(f'Group Name/Label: {group.label}; Group ID: {group.id} ')"
   ]
  },
  {
   "cell_type": "markdown",
   "metadata": {},
   "source": [
    "Then dig into the accepted project for the Mount Sinai group."
   ]
  },
  {
   "cell_type": "code",
   "execution_count": 21,
   "metadata": {},
   "outputs": [],
   "source": [
    "mssm_project = fw.lookup('mount-sinai/accepted')\n",
    "participants = mssm_project.subjects()"
   ]
  },
  {
   "cell_type": "markdown",
   "metadata": {},
   "source": [
    "and confirm there are the number of participants we saw in the interface"
   ]
  },
  {
   "cell_type": "code",
   "execution_count": 22,
   "metadata": {},
   "outputs": [
    {
     "data": {
      "text/plain": [
       "2619"
      ]
     },
     "execution_count": 22,
     "metadata": {},
     "output_type": "execute_result"
    }
   ],
   "source": [
    "len(participants)"
   ]
  }
 ],
 "metadata": {
  "kernelspec": {
   "display_name": "Python 3",
   "language": "python",
   "name": "python3"
  },
  "language_info": {
   "codemirror_mode": {
    "name": "ipython",
    "version": 3
   },
   "file_extension": ".py",
   "mimetype": "text/x-python",
   "name": "python",
   "nbconvert_exporter": "python",
   "pygments_lexer": "ipython3",
   "version": "3.12.0"
  }
 },
 "nbformat": 4,
 "nbformat_minor": 2
}
