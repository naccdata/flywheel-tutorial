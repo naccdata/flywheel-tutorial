{
 "cells": [
  {
   "cell_type": "markdown",
   "metadata": {},
   "source": [
    "# Submitting form data to NACC Flywheel API\n",
    "\n"
   ]
  },
  {
   "cell_type": "code",
   "execution_count": null,
   "metadata": {},
   "outputs": [],
   "source": [
    "from getpass import getpass\n",
    "import logging\n",
    "import os\n",
    "\n",
    "from flywheel import Client, FileSpec\n",
    "\n",
    "logging.basicConfig(level=logging.INFO, format='%(asctime)s %(levelname)s %(message)s')\n",
    "log = logging.getLogger('root')"
   ]
  },
  {
   "cell_type": "markdown",
   "metadata": {},
   "source": [
    "## Flywheel Access\n",
    "\n",
    "This script requires the API KEY for a user with upload capability for this operation.\n",
    "\n",
    "To get the API key, login as the user to the NACC Flywheel instance.\n",
    "Find the \"avatar\" in the upper right corner (generally a circle with your initials).\n",
    "Click the avatar dropdown, and select \"Profile\".\n",
    "Under \"Flywheel Access\" at the bottom of the resulting page, click \"Generate API Key\".\n",
    "\n",
    "Choose a key name relevant to upload, set the expiration date, and create the API Key.\n",
    "Copy the API Key since you wont be able to access the value later.\n",
    "This key should be kept secret.\n",
    "\n",
    "### Load secret key in script\n",
    "\n",
    "This script is for the purposes of demonstration, so we just prompt you for the key.\n",
    "\n",
    "For your own scripting please use appropriate secret management for your execution environment."
   ]
  },
  {
   "cell_type": "code",
   "execution_count": null,
   "metadata": {},
   "outputs": [],
   "source": [
    "API_KEY = getpass('Enter API_KEY here: ')"
   ]
  },
  {
   "cell_type": "markdown",
   "metadata": {},
   "source": [
    "## Connect to Flywheel\n",
    "\n",
    "The API Key is used to connected to Flywheel.\n",
    "To do this with the Python SDK, we create an SDK client that we will use."
   ]
  },
  {
   "cell_type": "code",
   "execution_count": null,
   "metadata": {},
   "outputs": [],
   "source": [
    "fw = Client(API_KEY if 'API_KEY' in locals() else os.environ.get('FW_KEY'))\n",
    "\n",
    "log.info('You are now logged in as %s to %s', fw.get_current_user()['email'], fw.get_config()['site']['api_url'])"
   ]
  },
  {
   "cell_type": "markdown",
   "metadata": {},
   "source": [
    "## Identify group for center\n",
    "\n",
    "Each center is associated with a Flywheel group.\n",
    "The group label for a center can be found by logging into Flywheel.\n",
    "\n",
    "**[DETAILS]**\n",
    "\n",
    "For this tutorial, we use the label `example-adrc`, but you should change this to the label for your center."
   ]
  },
  {
   "cell_type": "code",
   "execution_count": null,
   "metadata": {},
   "outputs": [],
   "source": [
    "group_label = 'example-adrc'"
   ]
  },
  {
   "cell_type": "markdown",
   "metadata": {},
   "source": [
    "## Identify project for upload\n",
    "\n",
    "Each data type has an \"ingest\" and \"sandbox\" Flywheel project.\n",
    "The \"ingest\" project is for submitting data primary data, and the \"sandbox\" project is for testing.\n",
    "\n",
    "For data files that have data for many participants, such as forms, the data is submitted as a CSV where each line is a data record for a participant.\n",
    "These files are attached to the ingest (or sandbox) project as shown here.\n",
    "\n",
    "> Data files that have a one to one relationship with participant, such as images, are uploaded differently."
   ]
  },
  {
   "cell_type": "markdown",
   "metadata": {},
   "source": [
    "Set `project_prefix` to `sandbox` or `ingest` depending on whether you are uploading test or participant data.\n",
    "The following code will set the label for the project in the group for your center."
   ]
  },
  {
   "cell_type": "code",
   "execution_count": null,
   "metadata": {},
   "outputs": [],
   "source": [
    "project_prefix = 'sandbox' # for testing\n",
    "# project_prefix = 'ingest' # for participant data\n",
    "\n",
    "project_label = f\"{project_prefix}-form\"\n",
    "project_reference = f\"{group_label}/{project_label}\""
   ]
  },
  {
   "cell_type": "markdown",
   "metadata": {},
   "source": [
    "Once the group and ingest project are identified, the SDK client is used to lookup the project.\n",
    "If the following command fails to find the project, something is wrong with your group and project labels."
   ]
  },
  {
   "cell_type": "code",
   "execution_count": null,
   "metadata": {},
   "outputs": [],
   "source": [
    "upload_project = fw.lookup(project_reference)\n",
    "if not upload_project:\n",
    "    log.error(\"Failed to find upload project %s\", project_reference)"
   ]
  },
  {
   "cell_type": "markdown",
   "metadata": {},
   "source": [
    "## Upload file\n",
    "\n",
    "If you have a file on disk, you can upload it directly to the project using code like the following."
   ]
  },
  {
   "cell_type": "code",
   "execution_count": null,
   "metadata": {},
   "outputs": [],
   "source": [
    "filename = \"form-data.csv\"\n",
    "file_path = f\"./{filename}\"\n",
    "file_type = 'text/csv'\n",
    "\n",
    "if upload_project:\n",
    "    upload_project.upload_file(file_path)\n",
    "    upload_project.update_file(filename, content_type=file_type)"
   ]
  },
  {
   "cell_type": "markdown",
   "metadata": {},
   "source": [
    "If on the otherhand, you generate the file contents in memory, create a `flywheel.FileSpec` object that references the contents and then upload the file."
   ]
  },
  {
   "cell_type": "code",
   "execution_count": null,
   "metadata": {},
   "outputs": [],
   "source": [
    "contents = \"your file contents\"\n",
    "file_spec = FileSpec(filename, contents=contents, content_type=file_type)\n",
    "if upload_project:\n",
    "    upload_project.upload_file(file_spec)"
   ]
  }
 ],
 "metadata": {
  "language_info": {
   "name": "python"
  }
 },
 "nbformat": 4,
 "nbformat_minor": 2
}
