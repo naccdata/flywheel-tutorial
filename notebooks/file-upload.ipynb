{
 "cells": [
  {
   "cell_type": "markdown",
   "metadata": {},
   "source": [
    "# Submitting form data to NACC Flywheel API\n",
    "\n"
   ]
  },
  {
   "cell_type": "code",
   "execution_count": null,
   "metadata": {},
   "outputs": [],
   "source": [
    "from getpass import getpass\n",
    "import logging\n",
    "import os\n",
    "\n",
    "from flywheel import Client, FileSpec\n",
    "\n",
    "logging.basicConfig(level=logging.INFO, format='%(asctime)s %(levelname)s %(message)s')\n",
    "log = logging.getLogger('root')"
   ]
  },
  {
   "cell_type": "markdown",
   "metadata": {},
   "source": [
    "## Flywheel Access\n",
    "\n",
    "This script requires the API KEY for a user with upload capability for this operation.\n",
    "\n",
    "To get the API key, login as the user to the NACC Flywheel instance.\n",
    "Find the \"avatar\" in the upper right corner (generally a circle with your initials).\n",
    "Click the avatar dropdown, and select \"Profile\".\n",
    "Under \"Flywheel Access\" at the bottom of the resulting page, click \"Generate API Key\".\n",
    "\n",
    "Choose a key name relevant to upload, set the expiration date, and create the API Key.\n",
    "Copy the API Key since you wont be able to access the value later.\n",
    "This key should be kept secret.\n",
    "\n",
    "### Load secret key in script\n",
    "\n",
    "This script is for the purposes of demonstration, so we just prompt you for the key.\n",
    "\n",
    "For your own scripting please use appropriate secret management for your execution environment."
   ]
  },
  {
   "cell_type": "code",
   "execution_count": null,
   "metadata": {},
   "outputs": [],
   "source": [
    "API_KEY = getpass('Enter API_KEY here: ')"
   ]
  },
  {
   "cell_type": "markdown",
   "metadata": {},
   "source": [
    "## Connect to Flywheel\n",
    "\n",
    "The API Key is used to connected to Flywheel.\n",
    "To do this with the Python SDK, we create an SDK client that we will use."
   ]
  },
  {
   "cell_type": "code",
   "execution_count": null,
   "metadata": {},
   "outputs": [],
   "source": [
    "fw = Client(API_KEY if 'API_KEY' in locals() else os.environ.get('FW_KEY'))\n",
    "\n",
    "log.info('You are now logged in as %s to %s', fw.get_current_user()['email'], fw.get_config()['site']['api_url'])"
   ]
  },
  {
   "cell_type": "markdown",
   "metadata": {},
   "source": [
    "## Identify project for upload\n",
    "\n",
    "Each center is associated with a Flywheel group, and each data type has an \"ingest\" Flywheel project for submission.\n",
    "\n",
    "For data files that have data for many participants, such as forms, the data is submitted as a CSV where each line is a data record for a participant.\n",
    "These files are attached to the ingest project as shown here.\n",
    "\n",
    "> Data files that have a one to one relationship with participant, such as images, are uploaded differently."
   ]
  },
  {
   "cell_type": "markdown",
   "metadata": {},
   "source": [
    "### Indicating the group for the center\n",
    "\n",
    "The group label for a center can be found by logging into Flywheel"
   ]
  },
  {
   "cell_type": "code",
   "execution_count": null,
   "metadata": {},
   "outputs": [],
   "source": [
    "group_label = 'example-adrc'"
   ]
  },
  {
   "cell_type": "markdown",
   "metadata": {},
   "source": [
    "Data is uploaded to a Flywheel project within this group with a prefix `ingest-`.\n",
    "\n",
    "Form data should be submitted using the following settings"
   ]
  },
  {
   "cell_type": "code",
   "execution_count": null,
   "metadata": {},
   "outputs": [],
   "source": [
    "ingest_label = 'ingest-form'\n",
    "file_type = 'text/csv'"
   ]
  },
  {
   "cell_type": "markdown",
   "metadata": {},
   "source": [
    "Once the group and ingest project are identified, the SDK client is used to lookup the project."
   ]
  },
  {
   "cell_type": "code",
   "execution_count": null,
   "metadata": {},
   "outputs": [],
   "source": [
    "ingest_project = fw.lookup(f\"{group_label}/{ingest_label}\")"
   ]
  },
  {
   "cell_type": "markdown",
   "metadata": {},
   "source": []
  },
  {
   "cell_type": "markdown",
   "metadata": {},
   "source": [
    "Your script should have error handling to ensure the project was found."
   ]
  },
  {
   "cell_type": "markdown",
   "metadata": {},
   "source": [
    "# Get file to upload"
   ]
  },
  {
   "cell_type": "code",
   "execution_count": null,
   "metadata": {},
   "outputs": [],
   "source": [
    "\n",
    "contents = \"\"\n",
    "file_size = 0\n",
    "file_spec = FileSpec(\"filename\", contents=\"\", content_type=file_type, size=file_size)"
   ]
  },
  {
   "cell_type": "markdown",
   "metadata": {},
   "source": [
    "# Upload file"
   ]
  },
  {
   "cell_type": "code",
   "execution_count": null,
   "metadata": {},
   "outputs": [],
   "source": [
    "\n",
    "\n",
    "if ingest_project:\n",
    "    ingest_project.upload_file(file_spec)"
   ]
  }
 ],
 "metadata": {
  "language_info": {
   "name": "python"
  }
 },
 "nbformat": 4,
 "nbformat_minor": 2
}
