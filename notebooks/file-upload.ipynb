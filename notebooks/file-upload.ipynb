{
 "cells": [
  {
   "cell_type": "markdown",
   "metadata": {},
   "source": [
    "# Submitting form data to NACC Flywheel API\n",
    "\n"
   ]
  },
  {
   "cell_type": "code",
   "execution_count": null,
   "metadata": {},
   "outputs": [],
   "source": [
    "from getpass import getpass\n",
    "import logging\n",
    "import os\n",
    "\n",
    "from flywheel import Client, FileSpec\n",
    "\n",
    "logging.basicConfig(level=logging.INFO, format='%(asctime)s %(levelname)s %(message)s')\n",
    "log = logging.getLogger('root')"
   ]
  },
  {
   "cell_type": "markdown",
   "metadata": {},
   "source": [
    "## Configuring API Access to Flywheel\n",
    "\n",
    "To use the Flywheel API with the Python SDK you will need an API key.\n",
    "\n",
    "### STOP! Where are you going to store your API Key?\n",
    "\n",
    "An API key should be kept secret.\n",
    "\n",
    "A common way for secrets to be exposed is by hardcoding them into software or configuration files. \n",
    "Once the code is checked into a version control repository, the secrets remain in the history even after they are removed from the current version of the code.\n",
    "So, before you start using your key in your scripts, please be sure you have a good secret management strategy in place.\n",
    "\n",
    "Here, we just prompt the user for the key.\n",
    "And, while this avoids storing the key, it is not practical for automated transfers.\n",
    "\n",
    "### Finding your API key\n",
    "\n",
    "Each API key is associated with a particular user. \n",
    "To get the API key, login as the user to the NACC Flywheel instance.\n",
    "\n",
    "1. Find the \"avatar\" in the upper right corner (generally a circle with your initials).\n",
    "2. Click the avatar dropdown, and select \"Profile\".\n",
    "3. Under \"Flywheel Access\" at the bottom of the resulting page, click \"Generate API Key\".\n",
    "4. Choose a key name relevant to upload, set the expiration date, and create the API Key.\n",
    "5. Copy the API Key since you wont be able to access the value later.\n",
    "6. Keep the key secret   \n",
    "\n",
    "### Load secret key in script\n",
    "\n",
    "In this demonstration script, we just prompt for the key:"
   ]
  },
  {
   "cell_type": "code",
   "execution_count": null,
   "metadata": {},
   "outputs": [],
   "source": [
    "API_KEY = getpass('Enter API_KEY here: ')"
   ]
  },
  {
   "cell_type": "markdown",
   "metadata": {},
   "source": [
    "## Connecting to Flywheel\n",
    "\n",
    "Once you have the API Key, it can be used to connect to Flywheel.\n",
    "With the Python SDK we create an SDK client that we will use throughout the rest of the notebook."
   ]
  },
  {
   "cell_type": "code",
   "execution_count": null,
   "metadata": {},
   "outputs": [],
   "source": [
    "fw = Client(API_KEY if 'API_KEY' in locals() else os.environ.get('FW_KEY'))\n",
    "\n",
    "log.info('You are now logged in as %s to %s', fw.get_current_user()['email'], fw.get_config()['site']['api_url'])"
   ]
  },
  {
   "cell_type": "markdown",
   "metadata": {},
   "source": [
    "## Figuring out where to upload\n",
    "\n",
    "### Identify group for center\n",
    "\n",
    "Each center is associated with a Flywheel group.\n",
    "\n",
    "Historically, NACC has used an ADC ID to represent centers, but in Flywheel a group has a symbolic ID.\n",
    "You can find this ID either using a lookup table using the ADCID, or by using the Flywheel user interface to find your group.\n"
   ]
  },
  {
   "cell_type": "markdown",
   "metadata": {},
   "source": [
    "Group information is stored as metadata in a Flywheel project `fw://nacc/metadata`.\n",
    "\n",
    "Get this project with the following code"
   ]
  },
  {
   "cell_type": "code",
   "execution_count": null,
   "metadata": {},
   "outputs": [],
   "source": [
    "metadata = fw.lookup(\"nacc/metadata\")\n",
    "if not metadata:\n",
    "    log.error(\"Failed to find nacc/metadata project\")"
   ]
  },
  {
   "cell_type": "markdown",
   "metadata": {},
   "source": [
    "Each project has an info object, and we've stored the table of centers in \n",
    "`metadata.info`.\n",
    "The SDK doesn't load the info object automatically, so we first call `reload` on the project.\n"
   ]
  },
  {
   "cell_type": "code",
   "execution_count": null,
   "metadata": {},
   "outputs": [],
   "source": [
    "metadata = metadata.reload()"
   ]
  },
  {
   "cell_type": "markdown",
   "metadata": {},
   "source": [
    "Then we can access the centers as `metadata.info['centers']`, which is a dictionary for which the keys are ADC IDs.\n",
    "\n",
    "For instance, to get the entry for the sample center used by NACC, we use the ADC ID 0."
   ]
  },
  {
   "cell_type": "code",
   "execution_count": null,
   "metadata": {},
   "outputs": [],
   "source": [
    "metadata.info['centers'][0]\n",
    "# {'acdid': 0, 'name': 'Sample Center', 'group': 'sample-center'}"
   ]
  },
  {
   "cell_type": "markdown",
   "metadata": {},
   "source": [
    "> Note: we share the IDs for all centers, but you will only be able to access a group if access has been granted to you. Access is granted based on information in the NACC Directory provided by center administrators.\n",
    "\n",
    "To use this value in the rest of the notebook we set `group_id` to the value for `group`:"
   ]
  },
  {
   "cell_type": "code",
   "execution_count": null,
   "metadata": {},
   "outputs": [],
   "source": [
    "group_id = metadata.info['centers'][0]['group']"
   ]
  },
  {
   "cell_type": "markdown",
   "metadata": {},
   "source": [
    "### Identify project for upload\n",
    "\n",
    "Each data type has an \"ingest\" and \"sandbox\" Flywheel project.\n",
    "The \"ingest\" project is for submitting primary data, and the \"sandbox\" project is for testing.\n",
    "\n",
    "For data files that have data for many participants, such as forms, the data is submitted as a CSV where each line is a data record for a participant.\n",
    "These files are attached to the ingest (or sandbox) project as shown here.\n",
    "\n",
    "> Data files that have a one to one relationship with participant, such as images, are uploaded differently.\n"
   ]
  },
  {
   "cell_type": "markdown",
   "metadata": {},
   "source": [
    "Set `project_prefix` to `sandbox` or `ingest` depending on whether you are uploading test or participant data.\n",
    "The following code will set the label for the project in the group for your center."
   ]
  },
  {
   "cell_type": "code",
   "execution_count": null,
   "metadata": {},
   "outputs": [],
   "source": [
    "project_prefix = 'sandbox' # for testing\n",
    "# project_prefix = 'ingest' # for participant data\n",
    "\n",
    "project_label = f\"{project_prefix}-form\"\n",
    "project_reference = f\"{group_id}/{project_label}\""
   ]
  },
  {
   "cell_type": "markdown",
   "metadata": {},
   "source": [
    "Once the group and ingest project are identified, the SDK client is used to lookup the project.\n",
    "If the following command fails to find the project, something is wrong with your group and project labels."
   ]
  },
  {
   "cell_type": "code",
   "execution_count": null,
   "metadata": {},
   "outputs": [],
   "source": [
    "upload_project = fw.lookup(project_reference)\n",
    "if not upload_project:\n",
    "    log.error(\"Failed to find upload project %s\", project_reference)"
   ]
  },
  {
   "cell_type": "markdown",
   "metadata": {},
   "source": [
    "## Upload file\n",
    "\n",
    "If you have a file on disk, you can upload it directly to the project using code like the following."
   ]
  },
  {
   "cell_type": "code",
   "execution_count": null,
   "metadata": {},
   "outputs": [],
   "source": [
    "filename = \"form-data.csv\"\n",
    "file_path = f\"./{filename}\"\n",
    "file_type = 'text/csv'\n",
    "\n",
    "if upload_project:\n",
    "    upload_project.upload_file(file_path)\n",
    "    upload_project.update_file(filename, content_type=file_type)"
   ]
  },
  {
   "cell_type": "markdown",
   "metadata": {},
   "source": [
    "If, on the otherhand, you generate the file contents in memory, create a `flywheel.FileSpec` object that references the contents and then upload the file."
   ]
  },
  {
   "cell_type": "code",
   "execution_count": null,
   "metadata": {},
   "outputs": [],
   "source": [
    "contents = \"your file contents\"\n",
    "file_spec = FileSpec(filename, contents=contents, content_type=file_type)\n",
    "if upload_project:\n",
    "    upload_project.upload_file(file_spec)"
   ]
  }
 ],
 "metadata": {
  "kernelspec": {
   "display_name": "Python 3",
   "language": "python",
   "name": "python3"
  },
  "language_info": {
   "name": "python",
   "version": "3.10.0"
  }
 },
 "nbformat": 4,
 "nbformat_minor": 2
}
