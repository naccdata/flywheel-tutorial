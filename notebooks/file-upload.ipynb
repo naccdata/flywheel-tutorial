{
 "cells": [
  {
   "cell_type": "markdown",
   "metadata": {},
   "source": [
    "# Batch file upload via API\n",
    "\n",
    "This document outlines how to upload batch form data as CSV files to NACC using the Flywheel API."
   ]
  },
  {
   "cell_type": "code",
   "execution_count": 1,
   "metadata": {},
   "outputs": [],
   "source": [
    "from getpass import getpass\n",
    "import logging\n",
    "import os\n",
    "\n",
    "from flywheel import Client, FileSpec\n",
    "\n",
    "logging.basicConfig(level=logging.INFO, format='%(asctime)s %(levelname)s %(message)s')\n",
    "log = logging.getLogger('root')"
   ]
  },
  {
   "cell_type": "markdown",
   "metadata": {},
   "source": [
    "## Configuring API Access to Flywheel\n",
    "\n",
    "To use the Flywheel API with the Python SDK you will need an API key.\n",
    "\n",
    "### Figure out where you are going to store your API Key\n",
    "\n",
    "An API key should be kept secret.\n",
    "Treat it like you would a password to access data at your center.\n",
    "\n",
    "Be aware that a common way for secrets to be exposed is by hardcoding them into software or configuration files. \n",
    "Once the code is checked into a version control repository, the secrets remain in the history even after they are removed from the current version of the code.\n",
    "So, before you start using your key in your scripts, please be sure you have a good secret management strategy in place.\n",
    "\n",
    "Here, we just prompt the user for the key.\n",
    "And, while this avoids storing the key, it is not practical for automated transfers and you will need a different strategy.\n",
    "\n",
    "### Finding your API key\n",
    "\n",
    "Each API key is associated with a particular user. \n",
    "To get the API key, login as the user to the NACC Flywheel instance.\n",
    "\n",
    "1. Find the \"avatar\" in the upper right corner (generally a circle with your initials).\n",
    "2. Click the avatar dropdown, and select \"Profile\".\n",
    "3. Under \"Flywheel Access\" at the bottom of the resulting page, click \"Generate API Key\".\n",
    "4. Choose a key name relevant to upload, set the expiration date, and create the API Key.\n",
    "5. Copy the API Key since you wont be able to access the value later.\n",
    "6. Keep the key secret   \n",
    "\n",
    "### Load secret key in script\n",
    "\n",
    "In this demonstration script, we just prompt for the key:"
   ]
  },
  {
   "cell_type": "code",
   "execution_count": 2,
   "metadata": {},
   "outputs": [],
   "source": [
    "API_KEY = getpass('Enter API_KEY here: ')"
   ]
  },
  {
   "cell_type": "markdown",
   "metadata": {},
   "source": [
    "## Connecting to Flywheel\n",
    "\n",
    "Once you have the API Key loaded, it can be used to connect to Flywheel.\n",
    "With the Python SDK we create an SDK client that we will use throughout the rest of the notebook."
   ]
  },
  {
   "cell_type": "code",
   "execution_count": 3,
   "metadata": {},
   "outputs": [
    {
     "name": "stderr",
     "output_type": "stream",
     "text": [
      "2024-04-07 22:54:41,141 INFO You are now logged in as bjkeller@washington.edu to https://naccdata.flywheel.io/api\n"
     ]
    }
   ],
   "source": [
    "fw = Client(API_KEY if 'API_KEY' in locals() else os.environ.get('FW_KEY'))\n",
    "\n",
    "log.info('You are now logged in as %s to %s', fw.get_current_user()['email'], fw.get_config()['site']['api_url'])"
   ]
  },
  {
   "cell_type": "markdown",
   "metadata": {},
   "source": [
    "## Figuring out where to upload\n",
    "\n",
    "### Identify group for center\n",
    "\n",
    "Each center is associated with a Flywheel group.\n",
    "\n",
    "Historically, NACC has used an ADC ID to represent centers, but in Flywheel a group has a symbolic ID.\n",
    "You can find this ID either using a lookup table using the ADCID.\n"
   ]
  },
  {
   "cell_type": "markdown",
   "metadata": {},
   "source": [
    "Group information is stored as metadata in a Flywheel project `fw://nacc/metadata`.\n",
    "The following function performs the lookup for the ADCID."
   ]
  },
  {
   "cell_type": "code",
   "execution_count": 4,
   "metadata": {},
   "outputs": [],
   "source": [
    "from typing import Optional\n",
    "\n",
    "\n",
    "def get_center_id(fw: Client, adcid: int) -> Optional[str]:\n",
    "    \"\"\"\n",
    "    Looks up the center group ID for a given ADCID.\n",
    "    \n",
    "    Args:\n",
    "        adcid (int): The ADCID of the center.\n",
    "    \n",
    "    Returns:\n",
    "        Optional[str]: The group ID of the center, or None if not found.\n",
    "    \"\"\"\n",
    "    metadata = fw.lookup(\"nacc/metadata\")\n",
    "    if not metadata:\n",
    "        log.error(\"Failed to find nacc/metadata project\")\n",
    "    metadata = metadata.reload()\n",
    "    if 'centers' not in metadata.info:\n",
    "        log.error(\"No 'centers' key in nacc/metadata\")\n",
    "        return None\n",
    "    \n",
    "    if str(adcid) not in metadata.info['centers']:\n",
    "        log.error(\"No center with ADCID %s in nacc/metadata\", adcid)\n",
    "        return None\n",
    "\n",
    "    return metadata.info['centers'][str(adcid)]['group']"
   ]
  },
  {
   "cell_type": "markdown",
   "metadata": {},
   "source": [
    "Then we would use this function to get the group ID for an ADCID.\n",
    "For instance, the ID the Sample Center (ADCID 0):"
   ]
  },
  {
   "cell_type": "code",
   "execution_count": 5,
   "metadata": {},
   "outputs": [
    {
     "name": "stderr",
     "output_type": "stream",
     "text": [
      "2024-04-07 22:54:50,699 INFO Group ID for ADCID 0 is sample-center\n"
     ]
    }
   ],
   "source": [
    "group_id = get_center_id(fw=fw, adcid=0)\n",
    "log.info(\"Group ID for ADCID 0 is %s\", group_id)"
   ]
  },
  {
   "cell_type": "markdown",
   "metadata": {},
   "source": [
    "### Identify project for upload"
   ]
  },
  {
   "cell_type": "markdown",
   "metadata": {},
   "source": [
    "The following function will get the appropriate project for uploading data depending on the datatype, pipeline type, and study ID.\n",
    "The defaults for the function will return the project for submitting form data to the sandbox pipeline for the ADRC Program (study ID `uds`).\n",
    "The sandbox pipeline is used for test submissions, and the data will not be included in the NACC-released dataset.\n",
    "To submit data for inclusion in the released data set, the pipeline type should be set to `'ingest'`."
   ]
  },
  {
   "cell_type": "code",
   "execution_count": 6,
   "metadata": {},
   "outputs": [],
   "source": [
    "from typing import Literal\n",
    "\n",
    "\n",
    "def get_project(fw: Client,\n",
    "                group_id: str, datatype: Literal['form','dicom'] = 'form', \n",
    "                pipeline_type: Literal['ingest', 'sandbox'] = 'sandbox', \n",
    "                study_id: str = 'uds'):\n",
    "    \"\"\"\n",
    "    Looks up the project for a given center, study, and datatype.\n",
    "    \n",
    "    Args:\n",
    "        group_id (str): The group ID of the center.\n",
    "        datatype (str): The datatype to look up.\n",
    "        pipeline_type (str): The type of the pipeline.\n",
    "        study_id (str): The study ID for the project.\n",
    "    Returns:\n",
    "        Project: The project for the given center, study, and datatype.\n",
    "    \"\"\"\n",
    "    suffix = f\"-{study_id}\" if study_id != 'uds' else ''\n",
    "    project_label = f\"{pipeline_type}-{datatype}{suffix}\"\n",
    "    project = fw.lookup(f\"{group_id}/{project_label}\")\n",
    "    if not project:\n",
    "        log.error(\"Failed to find project %s\", project_label)\n",
    "\n",
    "    return project"
   ]
  },
  {
   "cell_type": "markdown",
   "metadata": {},
   "source": [
    "Here we want to upload form data to the sandbox pipeline for the center identified earlier.\n",
    "To do this, we just pass the center `group_id` and use the defaults:"
   ]
  },
  {
   "cell_type": "code",
   "execution_count": 7,
   "metadata": {},
   "outputs": [
    {
     "name": "stderr",
     "output_type": "stream",
     "text": [
      "2024-04-07 22:54:58,517 INFO Using project sample-center/sandbox-form\n"
     ]
    }
   ],
   "source": [
    "upload_project = get_project(fw=fw, group_id=group_id)\n",
    "log.info(\"Using project %s/%s\", upload_project.group, upload_project.label)"
   ]
  },
  {
   "cell_type": "markdown",
   "metadata": {},
   "source": [
    "## Upload file\n",
    "\n",
    "For data files that have data for many participants, such as forms, the data is submitted as a CSV where each line is a data record for a participant.\n",
    "These files are attached to the ingest (or sandbox) project as shown here.\n",
    "\n",
    "> Data files that have a one to one relationship with participant, such as images, are uploaded differently.\n"
   ]
  },
  {
   "cell_type": "markdown",
   "metadata": {},
   "source": [
    "### For files on disk\n",
    "\n",
    "If you have a file on disk, you can upload it directly to the project using code like the following."
   ]
  },
  {
   "cell_type": "code",
   "execution_count": 8,
   "metadata": {},
   "outputs": [],
   "source": [
    "filename = \"form-data.csv\"\n",
    "file_path = f\"../data/{filename}\"\n",
    "file_type = 'text/csv'\n",
    "\n",
    "if upload_project:\n",
    "    upload_project.upload_file(file_path)"
   ]
  },
  {
   "cell_type": "markdown",
   "metadata": {},
   "source": [
    "> If you end up wanting to write a program that simply uploads files from disk, you might consider instead using the [Flywheel CLI utility](https://flywheel-io.gitlab.io/tools/app/cli/fw-beta/). A guide for using this tool to upload to NACC's Flywheel instance is provided elsewhere."
   ]
  },
  {
   "cell_type": "markdown",
   "metadata": {},
   "source": [
    "### For files in memory\n",
    "\n",
    "If, on the otherhand, you generate the file contents in memory, create a `flywheel.FileSpec` object that references the contents and then upload the file."
   ]
  },
  {
   "cell_type": "code",
   "execution_count": 27,
   "metadata": {},
   "outputs": [],
   "source": [
    "with open(\"../data/form-data.csv\", \"r\") as f:\n",
    "    contents = f.read()\n",
    "\n",
    "filename = \"form-data.csv\"\n",
    "file_type = 'text/csv'\n",
    "file_spec = FileSpec(filename, contents=contents, content_type=file_type)\n",
    "if upload_project:\n",
    "    upload_project.upload_file(file_spec)"
   ]
  }
 ],
 "metadata": {
  "kernelspec": {
   "display_name": "Python 3",
   "language": "python",
   "name": "python3"
  },
  "language_info": {
   "codemirror_mode": {
    "name": "ipython",
    "version": 3
   },
   "file_extension": ".py",
   "mimetype": "text/x-python",
   "name": "python",
   "nbconvert_exporter": "python",
   "pygments_lexer": "ipython3",
   "version": "3.12.3"
  }
 },
 "nbformat": 4,
 "nbformat_minor": 2
}
